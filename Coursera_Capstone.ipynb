{
 "cells": [
  {
   "cell_type": "markdown",
   "metadata": {},
   "source": [
    "# This notebook will be mainly used for the capstone project for Coursera dat sicience project"
   ]
  },
  {
   "cell_type": "markdown",
   "metadata": {},
   "source": [
    "<h2 align=center><font size = 8>Applied Data Science Capstone</font></h2>\n",
    "\n",
    "Research Topic: Identifying the most Ideal location in Toronto to set up a New Business Venture\n",
    "\n",
    "\n",
    "1. Introduction to Problem Solution:\n",
    "The project begins, at least in this case, by using Jupyter Notebook, web-based multi-functional interactive tool used for programming, visualization and coding\n",
    "\n",
    "Here, I will rely on the Notebook to build the code based on CVS file, this Dataset includes all types of collisions. Collisions will display at the intersection or mid-block of a segment. Timeframe: 2004 to Present. All collisions provided by SPD and recorded by Traffic Records. \n",
    "\n",
    "The data that is already organized in a table."
   ]
  },
  {
   "cell_type": "code",
   "execution_count": 5,
   "metadata": {},
   "outputs": [],
   "source": [
    "\n",
    "import pandas as pd # library for data analsysis\n",
    "import numpy as np # library to handle data in a vectorized manner"
   ]
  },
  {
   "cell_type": "code",
   "execution_count": 6,
   "metadata": {},
   "outputs": [
    {
     "name": "stdout",
     "output_type": "stream",
     "text": [
      "Hello Capstone Project Course!\n"
     ]
    }
   ],
   "source": [
    "print(\"Hello Capstone Project Course!\")"
   ]
  },
  {
   "cell_type": "code",
   "execution_count": null,
   "metadata": {},
   "outputs": [],
   "source": []
  }
 ],
 "metadata": {
  "kernelspec": {
   "display_name": "Python",
   "language": "python",
   "name": "conda-env-python-py"
  },
  "language_info": {
   "codemirror_mode": {
    "name": "ipython",
    "version": 3
   },
   "file_extension": ".py",
   "mimetype": "text/x-python",
   "name": "python",
   "nbconvert_exporter": "python",
   "pygments_lexer": "ipython3",
   "version": "3.6.11"
  }
 },
 "nbformat": 4,
 "nbformat_minor": 4
}
